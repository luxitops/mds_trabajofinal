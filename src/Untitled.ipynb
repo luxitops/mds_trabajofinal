{
 "cells": [
  {
   "cell_type": "code",
   "execution_count": 34,
   "id": "e706cc53-ce16-40f1-8d85-936a8ea71c3b",
   "metadata": {},
   "outputs": [],
   "source": [
    "from pyspark.sql import SparkSession\n",
    "from pyspark.sql.functions import explode, split\n",
    "from pyspark.sql.functions import col, sum, when\n",
    "from pyspark.ml.feature import StringIndexer, OneHotEncoder\n",
    "from pyspark.ml.feature import VectorAssembler\n",
    "from pyspark.ml import Pipeline\n",
    "from pyspark.ml.classification import RandomForestClassifier\n",
    "from pyspark.ml.evaluation import BinaryClassificationEvaluator"
   ]
  },
  {
   "cell_type": "code",
   "execution_count": 4,
   "id": "3b2ed077-3bf7-49ea-b38d-51744d9119c6",
   "metadata": {},
   "outputs": [],
   "source": [
    "spark = SparkSession.builder \\\n",
    "    .appName(\"Spark SQL - Trabajo\") \\\n",
    "    .getOrCreate()"
   ]
  },
  {
   "cell_type": "code",
   "execution_count": 12,
   "id": "38554960-576b-4b8b-8af0-abe025bcb27e",
   "metadata": {},
   "outputs": [],
   "source": [
    "ruta_parquet = \"gs://mds-grupo06-gcs/historico_creditos_peru_csv_50m_20/parquet/\""
   ]
  },
  {
   "cell_type": "code",
   "execution_count": 16,
   "id": "3bd795bb-6e0c-496c-bfdc-5b9f38d24184",
   "metadata": {},
   "outputs": [
    {
     "name": "stderr",
     "output_type": "stream",
     "text": [
      "                                                                                \r"
     ]
    }
   ],
   "source": [
    "df = spark.read.parquet(ruta_parquet)"
   ]
  },
  {
   "cell_type": "code",
   "execution_count": null,
   "id": "6395b8a1-bb99-42f0-84f0-501a432f9950",
   "metadata": {},
   "outputs": [],
   "source": [
    "### PreProcessing"
   ]
  },
  {
   "cell_type": "code",
   "execution_count": null,
   "id": "00975600-34d8-452a-9f93-909b10e0d501",
   "metadata": {},
   "outputs": [],
   "source": [
    "df.printSchema()"
   ]
  },
  {
   "cell_type": "code",
   "execution_count": 19,
   "id": "e6a4ff37-1d5c-4626-837a-59e4988122ce",
   "metadata": {},
   "outputs": [
    {
     "name": "stderr",
     "output_type": "stream",
     "text": [
      "[Stage 2:======================================================>(449 + 1) / 450]\r"
     ]
    },
    {
     "name": "stdout",
     "output_type": "stream",
     "text": [
      "+----------+--------+----+---------------+-------------+--------------+---------+---------------+--------+--------------+\n",
      "|cliente_id|distrito|edad|fecha_solicitud|monto_credito|nivel_ingresos|ocupacion|pagos_atrasados|anio_mes|estado_credito|\n",
      "+----------+--------+----+---------------+-------------+--------------+---------+---------------+--------+--------------+\n",
      "|         0|       0| 199|            199|          199|             0|        0|            199|     199|             0|\n",
      "+----------+--------+----+---------------+-------------+--------------+---------+---------------+--------+--------------+\n",
      "\n"
     ]
    },
    {
     "name": "stderr",
     "output_type": "stream",
     "text": [
      "                                                                                \r"
     ]
    }
   ],
   "source": [
    "df.select([sum(when(col(c).isNull(), 1).otherwise(0)).alias(c) for c in df.columns]).show()"
   ]
  },
  {
   "cell_type": "code",
   "execution_count": 20,
   "id": "cb70be25-416a-4592-ab04-04f8a9a0d9bf",
   "metadata": {},
   "outputs": [],
   "source": [
    "df = df.dropna(subset=['edad', 'fecha_solicitud', 'monto_credito', 'pagos_atrasados','anio_mes'])"
   ]
  },
  {
   "cell_type": "code",
   "execution_count": 21,
   "id": "35bc28ce-efde-4290-a19b-326aa9d13ae1",
   "metadata": {},
   "outputs": [
    {
     "name": "stdout",
     "output_type": "stream",
     "text": [
      "root\n",
      " |-- cliente_id: string (nullable = true)\n",
      " |-- distrito: string (nullable = true)\n",
      " |-- edad: integer (nullable = true)\n",
      " |-- fecha_solicitud: date (nullable = true)\n",
      " |-- monto_credito: integer (nullable = true)\n",
      " |-- nivel_ingresos: string (nullable = true)\n",
      " |-- ocupacion: string (nullable = true)\n",
      " |-- pagos_atrasados: integer (nullable = true)\n",
      " |-- anio_mes: string (nullable = true)\n",
      " |-- estado_credito: string (nullable = true)\n",
      "\n"
     ]
    }
   ],
   "source": [
    "df.printSchema()"
   ]
  },
  {
   "cell_type": "code",
   "execution_count": 25,
   "id": "581f1013-d3cd-4f06-961c-3ba10ff913ca",
   "metadata": {},
   "outputs": [
    {
     "name": "stdout",
     "output_type": "stream",
     "text": [
      "+--------------------+--------+----+---------------+-------------+--------------+-------------+---------------+--------+--------------+------+\n",
      "|          cliente_id|distrito|edad|fecha_solicitud|monto_credito|nivel_ingresos|    ocupacion|pagos_atrasados|anio_mes|estado_credito|target|\n",
      "+--------------------+--------+----+---------------+-------------+--------------+-------------+---------------+--------+--------------+------+\n",
      "|062e1ccd-911d-4d3...|Arequipa|  46|     2021-12-28|         6024|          Alto|Independiente|              9| 2021-12|        Pagado|     1|\n",
      "|e6dfa886-65c1-42d...|    Puno|  43|     2021-12-26|         5821|          Bajo|  Pensionista|             12| 2021-12|        Pagado|     1|\n",
      "|9111a716-f226-481...|    Lima|  62|     2021-12-15|        34449|          Alto|  Desempleado|             12| 2021-12|        Pagado|     1|\n",
      "|108cce7d-1445-461...|Chiclayo|  30|     2021-12-07|        19530|          Bajo|  Pensionista|              9| 2021-12|        Pagado|     1|\n",
      "|f3b9fe2b-8604-41b...|    Lima|  38|     2021-12-24|        17476|          Bajo|     Empleado|              2| 2021-12|        Pagado|     1|\n",
      "|4ecf50af-0e53-4f0...|Arequipa|  74|     2021-12-13|        43591|          Bajo|   Estudiante|              2| 2021-12|        Pagado|     1|\n",
      "|0264b190-6041-4e5...|    Puno|  57|     2021-12-31|        37648|         Medio|   Estudiante|              6| 2021-12|        Pagado|     1|\n",
      "|4846dbcb-33ce-476...|    Lima|  60|     2021-12-03|         9557|          Alto|  Desempleado|             11| 2021-12|        Pagado|     1|\n",
      "|6d3e814b-bbc1-4e8...|Arequipa|  24|     2021-12-03|        12364|          Alto|   Estudiante|             12| 2021-12|        Pagado|     1|\n",
      "|2ada00be-7c7d-474...|Arequipa|  27|     2021-12-10|        48936|          Bajo|     Empleado|              5| 2021-12|        Pagado|     1|\n",
      "|1de9cda9-11ce-433...|Arequipa|  27|     2021-12-18|        28110|          Alto|  Desempleado|              7| 2021-12|        Pagado|     1|\n",
      "|07a4e211-66f3-4fb...|    Puno|  68|     2021-12-29|        13930|          Bajo|Independiente|              1| 2021-12|        Pagado|     0|\n",
      "|bf8859bd-908e-46f...|Trujillo|  31|     2021-12-14|        23737|         Medio|     Empleado|              5| 2021-12|        Pagado|     1|\n",
      "|c96dc1a9-db71-45d...|Trujillo|  46|     2021-12-13|        10115|          Alto|     Empleado|             11| 2021-12|        Pagado|     1|\n",
      "|0651ccea-3315-467...|Arequipa|  61|     2021-12-01|         7859|         Medio|Independiente|              2| 2021-12|        Pagado|     1|\n",
      "|612cd8d2-b3c9-43a...|    Puno|  54|     2021-12-30|         6369|         Medio|  Desempleado|             10| 2021-12|        Pagado|     1|\n",
      "|d7846906-6a6b-4ed...|    Lima|  36|     2021-12-28|        26614|          Alto|  Desempleado|              8| 2021-12|        Pagado|     1|\n",
      "|898c36c0-0ab8-440...|Trujillo|  56|     2021-12-12|        49967|         Medio|     Empleado|             12| 2021-12|        Pagado|     1|\n",
      "|8c5f7435-dc42-49a...|Trujillo|  28|     2021-12-10|        10894|          Alto|   Estudiante|              8| 2021-12|        Pagado|     1|\n",
      "|212c00dc-32e2-499...|Trujillo|  54|     2021-12-09|        10378|          Bajo|  Pensionista|              7| 2021-12|        Pagado|     1|\n",
      "+--------------------+--------+----+---------------+-------------+--------------+-------------+---------------+--------+--------------+------+\n",
      "only showing top 20 rows\n",
      "\n"
     ]
    }
   ],
   "source": [
    "df.show(20)"
   ]
  },
  {
   "cell_type": "code",
   "execution_count": 24,
   "id": "a9e078e2-8b45-4755-ae4f-cfaf65147e16",
   "metadata": {},
   "outputs": [],
   "source": [
    "df = df.withColumn(\"target\", when(df.pagos_atrasados >= 2, 1).otherwise(0))"
   ]
  },
  {
   "cell_type": "code",
   "execution_count": 27,
   "id": "cfcf4c76-84bc-4b3a-98d1-214e61239017",
   "metadata": {},
   "outputs": [
    {
     "name": "stderr",
     "output_type": "stream",
     "text": [
      "[Stage 8:======================================================>(449 + 1) / 450]\r"
     ]
    },
    {
     "name": "stdout",
     "output_type": "stream",
     "text": [
      "+------+--------+\n",
      "|target|   count|\n",
      "+------+--------+\n",
      "|     1|84616298|\n",
      "|     0|15383702|\n",
      "+------+--------+\n",
      "\n"
     ]
    },
    {
     "name": "stderr",
     "output_type": "stream",
     "text": [
      "                                                                                \r"
     ]
    }
   ],
   "source": [
    "df.groupBy(\"target\").count().show()"
   ]
  },
  {
   "cell_type": "code",
   "execution_count": null,
   "id": "441a6726-2253-4c5c-8c5c-47cac268fdea",
   "metadata": {},
   "outputs": [],
   "source": [
    "### Featuring Engineering"
   ]
  },
  {
   "cell_type": "code",
   "execution_count": 30,
   "id": "973378e0-7c02-458d-9555-add704af0d49",
   "metadata": {},
   "outputs": [],
   "source": [
    "cat_cols = ['distrito', 'estado_credito', 'nivel_ingresos', 'ocupacion']\n",
    "indexers = [StringIndexer(inputCol=c, outputCol=c + \"_idx\") for c in cat_cols]\n",
    "encoders = [OneHotEncoder(inputCol=c + \"_idx\", outputCol=c + \"_vec\") for c in cat_cols]"
   ]
  },
  {
   "cell_type": "code",
   "execution_count": 33,
   "id": "de4a373f-7b3c-4f7b-96cd-6a99ded22668",
   "metadata": {},
   "outputs": [],
   "source": [
    "feature_cols = ['edad', 'monto_credito'] + [c + \"_vec\" for c in cat_cols]\n",
    "assembler = VectorAssembler(inputCols=feature_cols, outputCol=\"features\")"
   ]
  },
  {
   "cell_type": "code",
   "execution_count": null,
   "id": "b1ca1b16-a937-4a30-847d-d7a7fd11563f",
   "metadata": {},
   "outputs": [
    {
     "name": "stderr",
     "output_type": "stream",
     "text": [
      "[Stage 20:=====================================>                (314 + 3) / 450]\r"
     ]
    }
   ],
   "source": [
    "pipeline = Pipeline(stages=indexers + encoders + [assembler])\n",
    "model_pipeline = pipeline.fit(df)\n",
    "df_prepared = model_pipeline.transform(df)"
   ]
  },
  {
   "cell_type": "code",
   "execution_count": null,
   "id": "fef0e3b0-f15e-4c13-812c-a1c0dc1b5e65",
   "metadata": {},
   "outputs": [],
   "source": [
    "train_df, test_df = df_prepared.randomSplit([0.8, 0.2], seed=42)"
   ]
  },
  {
   "cell_type": "code",
   "execution_count": null,
   "id": "bc06bdf9-778f-43b1-96bd-478ca264b64b",
   "metadata": {},
   "outputs": [],
   "source": [
    "rf = RandomForestClassifier(labelCol=\"default\", featuresCol=\"features\", numTrees=100)\n",
    "model = rf.fit(train_df)"
   ]
  },
  {
   "cell_type": "code",
   "execution_count": null,
   "id": "8e45a142-1c9a-48d8-afd9-3ac4b89d85fb",
   "metadata": {},
   "outputs": [],
   "source": [
    "predictions = model.transform(test_df)\n",
    "evaluator = BinaryClassificationEvaluator(labelCol=\"default\", metricName=\"areaUnderROC\")\n",
    "auc = evaluator.evaluate(predictions)\n",
    "print(f\"AUC: {auc}\")\n"
   ]
  },
  {
   "cell_type": "code",
   "execution_count": null,
   "id": "5e3b4767",
   "metadata": {},
   "outputs": [],
   "source": [
    "results = predictions.select(\"cliente_id\", \"probability\", \"prediction\")\n",
    "results.write.format(\"mongo\").mode(\"overwrite\").option(\"collection\", \"predicciones_riesgo\").save()"
   ]
  }
 ],
 "metadata": {
  "kernelspec": {
   "display_name": "PySpark",
   "language": "python",
   "name": "pyspark"
  },
  "language_info": {
   "codemirror_mode": {
    "name": "ipython",
    "version": 3
   },
   "file_extension": ".py",
   "mimetype": "text/x-python",
   "name": "python",
   "nbconvert_exporter": "python",
   "pygments_lexer": "ipython3",
   "version": "3.10.8"
  }
 },
 "nbformat": 4,
 "nbformat_minor": 5
}
